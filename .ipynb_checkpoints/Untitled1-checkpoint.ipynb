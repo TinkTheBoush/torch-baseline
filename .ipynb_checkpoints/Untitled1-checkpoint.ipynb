{
 "cells": [
  {
   "cell_type": "code",
   "execution_count": 1,
   "id": "76ed8a73-f501-4461-a2c9-426ca3c15421",
   "metadata": {},
   "outputs": [
    {
     "name": "stderr",
     "output_type": "stream",
     "text": [
      "2021-09-25 00:13:51.525547: W external/org_tensorflow/tensorflow/stream_executor/platform/default/dso_loader.cc:64] Could not load dynamic library 'libcudart.so.10.2'; dlerror: libcudart.so.10.2: cannot open shared object file: No such file or directory\n",
      "2021-09-25 00:13:51.623923: W external/org_tensorflow/tensorflow/stream_executor/platform/default/dso_loader.cc:64] Could not load dynamic library 'libcudart.so.10.2'; dlerror: libcudart.so.10.2: cannot open shared object file: No such file or directory\n",
      "2021-09-25 00:13:51.628924: W external/org_tensorflow/tensorflow/stream_executor/platform/default/dso_loader.cc:64] Could not load dynamic library 'libcudart.so.10.2'; dlerror: libcudart.so.10.2: cannot open shared object file: No such file or directory\n"
     ]
    }
   ],
   "source": [
    "from torch_baselines.DQN.network import Model"
   ]
  },
  {
   "cell_type": "code",
   "execution_count": 2,
   "id": "6cb92dd4-1fa0-4178-9e6c-a89ddcf07fe4",
   "metadata": {},
   "outputs": [],
   "source": [
    "model = Model([[5]],[2],noisy=True)"
   ]
  },
  {
   "cell_type": "code",
   "execution_count": 3,
   "id": "58ea3a95-84ca-4e47-afdb-68c8a9b2c40f",
   "metadata": {},
   "outputs": [
    {
     "name": "stdout",
     "output_type": "stream",
     "text": [
      "NoisyLinear()\n",
      "NoisyLinear()\n",
      "NoisyLinear()\n"
     ]
    }
   ],
   "source": [
    "model.samepl_noise()"
   ]
  },
  {
   "cell_type": "code",
   "execution_count": null,
   "id": "d26f3dd8-ee0c-449a-b2a2-75e37952209f",
   "metadata": {},
   "outputs": [],
   "source": []
  }
 ],
 "metadata": {
  "kernelspec": {
   "display_name": "Python 3 (ipykernel)",
   "language": "python",
   "name": "python3"
  },
  "language_info": {
   "codemirror_mode": {
    "name": "ipython",
    "version": 3
   },
   "file_extension": ".py",
   "mimetype": "text/x-python",
   "name": "python",
   "nbconvert_exporter": "python",
   "pygments_lexer": "ipython3",
   "version": "3.8.10"
  }
 },
 "nbformat": 4,
 "nbformat_minor": 5
}
